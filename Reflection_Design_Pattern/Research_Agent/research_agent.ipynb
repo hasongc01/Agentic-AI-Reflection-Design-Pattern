{
 "cells": [
  {
   "cell_type": "markdown",
   "id": "9a95cee7",
   "metadata": {},
   "source": [
    "# Project Overview\n",
    "\n",
    "This project aims to implement an agentic workflow that writes an essay, simulating human's reflective thinking process. \n",
    "\n",
    "This workflow is a three-step workflow that writes a 1) draft, 2) critiques, and 3) rewrites.\n",
    "\n",
    "\n",
    "* **Step 1 – Drafting:** Call the LLM to generate an initial draft of an essay based on a simple prompt.\n",
    "* **Step 2 – Reflection:** Reflect on the draft using a reasoning step. (Optionally, this can be done with a different model.)\n",
    "* **Step 3 – Revision:** Apply the feedback from the reflection to generate a revised version of the essay.\n"
   ]
  },
  {
   "cell_type": "markdown",
   "id": "d45f01b5",
   "metadata": {},
   "source": [
    "# 0. Import Packages, Load Data, and Setup"
   ]
  },
  {
   "cell_type": "markdown",
   "id": "19131dc4",
   "metadata": {},
   "source": [
    "Before interacting with the language models, we initialize the `aisuite` client. This setup loads environment variables (e.g., API keys) from a `.env` file to securely authenticate with backend services. The `ai.Client()` instance will be used to make all model calls throughout this workflow."
   ]
  },
  {
   "cell_type": "code",
   "execution_count": 1,
   "id": "9ccd6eeb",
   "metadata": {
    "deletable": false,
    "editable": false,
    "height": 148
   },
   "outputs": [],
   "source": [
    "from dotenv import load_dotenv\n",
    "\n",
    "load_dotenv()\n",
    "\n",
    "import aisuite as ai\n",
    "# Define the client\n",
    "\n",
    "CLIENT = ai.Client()"
   ]
  },
  {
   "cell_type": "code",
   "execution_count": 2,
   "id": "29a62967",
   "metadata": {},
   "outputs": [],
   "source": [
    "# All the requirement packages were download\n",
    "# !pip install -r requirements.txt\n",
    "\n",
    "# !pip install -r /Users/chohasong/Documents/GitHub/Agentic-AI-Reflection-Design-Pattern/Reflection_Design_Pattern/Research_Agent/requirements.txt"
   ]
  },
  {
   "cell_type": "code",
   "execution_count": null,
   "id": "7ecf69d4",
   "metadata": {},
   "outputs": [],
   "source": [
    "import unittest"
   ]
  },
  {
   "cell_type": "markdown",
   "id": "ee900ce1",
   "metadata": {},
   "source": [
    "# 1. Draft an Essay with `generate_draft` function"
   ]
  },
  {
   "cell_type": "markdown",
   "id": "cb1d6e33",
   "metadata": {},
   "source": [
    "\n",
    "**Objective**:\n",
    "Write a function called `generate_draft` that takes in a string topic and uses a language model to generate a complete draft essay.\n",
    "\n",
    "**Inputs**:\n",
    "\n",
    "* `topic` (str): The essay topic.\n",
    "* `model` (str, optional): The model identifier to use. Defaults to `\"openai:gpt-4o\"`.\n",
    "\n",
    "**Output**:\n",
    "\n",
    "* A string representing the full draft of the essay.\n",
    "\n",
    "The setup for calling the LLM using the aisuite library is already provided. Focus on crafting the prompt content. You can reference this setup in later exercises to understand how to interact with the library effectively.\n"
   ]
  },
  {
   "cell_type": "code",
   "execution_count": 3,
   "id": "dbe325d5",
   "metadata": {
    "deletable": false,
    "height": 335,
    "tags": [
     "graded"
    ]
   },
   "outputs": [],
   "source": [
    "# GRADED FUNCTION: generate_draft\n",
    "\n",
    "def generate_draft(topic: str, model: str = \"openai:gpt-4o\") -> str: \n",
    "    \n",
    "    ### START CODE HERE ###\n",
    "    \"\"\"Take a topic and generate an essay\"\"\"\n",
    "\n",
    "    # Define your prompt here. A multi-line f-string is typically used for this.\n",
    "    prompt = f\"\"\" \n",
    "    You are an essay writer. \n",
    "\n",
    "    Create an essay on a given topic. Essay limit is  400-500 words.\n",
    "\n",
    "    Essay topic:\n",
    "    {topic}\n",
    "\n",
    "    Step 1: Browse the internet, research papers, and news article in the given topic.\n",
    "    Step 2: Create an overall outline containing: introduction, body, conclusion.\n",
    "    Step 3: In the introduction, discuss the topic's context, recent trend or news. The introduction should clearly state your position. Write both your view and the opposing view.\n",
    "    Step 4: Write a paragraph for each of your discussion point. Each paragraph should be supported by research evidence.\n",
    "    Step 5: Defend your view by mentioning counterpart's view. \n",
    "    Step 6: Write a conclusion clearly restating your view and suggest future improvements or further research needed.\n",
    "\n",
    "    \n",
    "    Output:\n",
    "    String representing the full draft of the essay. \n",
    "\n",
    "    \"\"\"\n",
    "\n",
    "    ### END CODE HERE ###\n",
    "    \n",
    "    # Get a response from the LLM by creating a chat with the client.\n",
    "    response = CLIENT.chat.completions.create(\n",
    "        model=model,\n",
    "        messages=[{\"role\": \"user\", \"content\": prompt}],\n",
    "        temperature=1.0,\n",
    "    )\n",
    "\n",
    "    return response.choices[0].message.content"
   ]
  },
  {
   "cell_type": "markdown",
   "id": "136a95db",
   "metadata": {},
   "source": [
    "# 2. Make Feedback with `reflect_on_draft` Function\n",
    "\n",
    "**Objective**:\n",
    "Write a function called `reflect_on_draft` that takes a previously generated essay draft and uses a language model to provide constructive feedback.\n",
    "\n",
    "**Inputs**:\n",
    "\n",
    "* `draft` (str): The essay text to reflect on.\n",
    "* `model` (str, optional): The model identifier to use. Defaults to `\"openai:o4-mini\"`.\n",
    "\n",
    "**Output**:\n",
    "\n",
    "* A string with feedback in paragraph form.\n",
    "\n",
    "**Requirements**:\n",
    "\n",
    "* The feedback should be critical but constructive.\n",
    "* It should address issues such as structure, clarity, strength of argument, and writing style.\n",
    "* The function should send the draft to the model and return its response.\n",
    "\n",
    "You do **not** need to rewrite the essay at this step—just analyze and reflect on it.\n"
   ]
  },
  {
   "cell_type": "code",
   "execution_count": 6,
   "id": "4cc1a1cf",
   "metadata": {
    "deletable": false,
    "height": 335,
    "tags": [
     "graded"
    ]
   },
   "outputs": [],
   "source": [
    "# GRADED FUNCTION: reflect_on_draft\n",
    "\n",
    "def reflect_on_draft(draft: str, model: str = \"openai:o4-mini\") -> str:\n",
    "\n",
    "    ### START CODE HERE ###\n",
    "\n",
    "    \"\"\"Take a generated essay draft and provide feedback.\"\"\"\n",
    "\n",
    "    # Define your prompt here. A multi-line f-string is typically used for this.\n",
    "    prompt = f\"\"\"\n",
    "    You are an essay reviser. \n",
    "    \n",
    "    User draft:\n",
    "    {draft}\n",
    "    \n",
    "    Requirements:\n",
    "    Make a feedback that is critical but constructive. \n",
    "    Address issues such as structure, clarity, strength of argument, and writing style.\n",
    "    Send draft to model and return response. \n",
    "\n",
    "    Steps:\n",
    "    Step 1: Research guidelines on good essay for structure, clarity, strength of argument, and writing style.\n",
    "    Step 2: Read the entire essay.\n",
    "    Step 3: Refer to the guide and make feedback on the essay.\n",
    "        \n",
    "    Output:\n",
    "    String with feedback in a paragraph form.. \n",
    "\n",
    "    \n",
    "    \"\"\"\n",
    "\n",
    "    ### END CODE HERE ###\n",
    "\n",
    "    # Get a response from the LLM by creating a chat with the client.\n",
    "    response = CLIENT.chat.completions.create(\n",
    "        model=model,\n",
    "        messages=[{\"role\": \"user\", \"content\": prompt}],\n",
    "        temperature=1.0,\n",
    "    )\n",
    "\n",
    "    return response.choices[0].message.content"
   ]
  },
  {
   "cell_type": "markdown",
   "id": "e99bba56",
   "metadata": {},
   "source": [
    "# Exercise 3: `revise_draft` Function\n",
    "\n",
    "**Objective**:\n",
    "Implement a function called `revise_draft` that improves a given essay draft based on feedback from a reflection step.\n",
    "\n",
    "**Inputs**:\n",
    "\n",
    "* `original_draft` (str): The initial version of the essay.\n",
    "* `reflection` (str): Constructive feedback or critique on the draft.\n",
    "* `model` (str, optional): The model identifier to use. Defaults to `\"openai:gpt-4o\"`.\n",
    "\n",
    "**Output**:\n",
    "\n",
    "* A string containing the revised and improved essay.\n",
    "\n",
    "**Requirements**:\n",
    "\n",
    "* The revised draft should address the issues mentioned in the feedback.\n",
    "* It should improve clarity, coherence, argument strength, and overall flow.\n",
    "* The function should use the feedback to guide the revision, and return only the final revised essay.\n",
    "\n",
    "In this final exercise, you'll also need to manage the call to the LLM using the CLIENT, as you've practiced in previous exercises."
   ]
  },
  {
   "cell_type": "code",
   "execution_count": 8,
   "id": "f91595e9",
   "metadata": {
    "deletable": false,
    "height": 267,
    "tags": [
     "graded"
    ]
   },
   "outputs": [],
   "source": [
    "# GRADED FUNCTION: revise_draft\n",
    "\n",
    "def revise_draft(original_draft: str, reflection: str, model: str = \"openai:gpt-4o\") -> str:\n",
    "\n",
    "    ### START CODE HERE ###\n",
    "    \"\"\"Take a generated essay draft's feedback and generate a revised essay\"\"\"\n",
    "\n",
    "    # Define your prompt here. A multi-line f-string is typically used for this.\n",
    "    prompt = f\"\"\" \n",
    "    You are an essay writer.  \n",
    "    \n",
    "    Essay draft:\n",
    "    {original_draft}\n",
    "    \n",
    "    Essay Feedback:\n",
    "    {reflection}\n",
    "    \n",
    "    Requirements; \n",
    "    The generated essay should adress the issues mentioned in the feedback. \n",
    "    It should improve clarity, coherence, argument strength and overall flow. \n",
    "    \n",
    "    Steps:\n",
    "    Step 1: Check if all issues mentioned in the feedback was clearly addressed with better logic or evidence.\n",
    "    Step 2: Check if the style of the essay was improved.\n",
    "\n",
    "    You should use the feedback to guide the revision, and return the final revised essay only.\n",
    "\n",
    "    Returns (final reviewed essay).\n",
    "    \n",
    "    \"\"\"\n",
    "\n",
    "    # Get a response from the LLM by creating a chat with the client.\n",
    "    response = CLIENT.chat.completions.create(\n",
    "        model = model,\n",
    "        messages = [{\"role\": \"user\", \"content\": prompt}],\n",
    "        temperature = 1.0\n",
    "    )\n",
    "\n",
    "    ### END CODE HERE ###\n",
    "\n",
    "    return response.choices[0].message.content"
   ]
  },
  {
   "cell_type": "markdown",
   "id": "c8a10d4c",
   "metadata": {},
   "source": [
    "### 🧪 Test the Reflective Writing Workflow\n",
    "\n",
    "Use the functions you implemented to simulate the complete writing workflow:\n",
    "\n",
    "1. **Generate a draft** in response to the essay prompt.\n",
    "2. **Reflect** on the draft to identify improvements.\n",
    "3. **Revise** the draft using the feedback.\n",
    "\n",
    "Observe the outputs of each step. You do **not** need to modify the outputs — just verify that the workflow runs as expected and each component returns a valid string.\n"
   ]
  },
  {
   "cell_type": "code",
   "execution_count": 9,
   "id": "203c734a",
   "metadata": {
    "deletable": false,
    "editable": false,
    "height": 284
   },
   "outputs": [
    {
     "name": "stdout",
     "output_type": "stream",
     "text": [
      "📝 Draft:\n",
      "\n",
      "**Should Agentic AI Replace Human Labor?**\n",
      "\n",
      "**Introduction**\n",
      "\n",
      "The advent of Agentic Artificial Intelligence (AI), defined as AI systems capable of making autonomous decisions, has sparked debates regarding its role in the workforce. With the advancement in AI technologies, there is a growing trend of implementing these systems in industries ranging from manufacturing and transportation to healthcare and customer service. As we stand on the brink of a fourth industrial revolution, it is imperative to question whether Agentic AI should replace human labor. In this discourse, I argue that while Agentic AI has the potential to enhance efficiency and productivity, it should not replace human labor altogether. Instead, a complementary approach should be adopted, where AI and humans work in tandem. Opponents, however, assert that AI could lead to significant economic gains and free humans from mundane tasks.\n",
      "\n",
      "**Body**\n",
      "\n",
      "Agentic AI promises increased efficiency and productivity in various sectors. Numerous studies indicate that AI technologies can perform tasks faster and with higher precision than humans. For example, AI-driven automation has already revolutionized manufacturing processes by significantly reducing production times and minimizing errors. According to a report by McKinsey & Company (2017), AI could increase global GDP by over $13 trillion by 2030. The potential for economic expansion is substantial, but it is important to note that efficiency should not be the sole determinant in the discussion of job replacement.\n",
      "\n",
      "On the contrary, the displacement of human workers poses several societal and ethical concerns. A study by the World Economic Forum (2020) highlights that the rise of AI could displace 85 million jobs by 2025. This transition could exacerbate unemployment rates, increase income inequality, and cause societal disruption if not managed properly. Furthermore, AI systems currently lack human qualities such as empathy, creativity, and moral reasoning, which are crucial in certain professions, especially those involving human interactions and ethical decision-making.\n",
      "\n",
      "Critics of retaining human labor argue that AI can take over repetitive and dangerous tasks, thereby freeing humans to engage in more creative and meaningful work. This is a valid point; automation of menial jobs can indeed lead to freeing up workforce potential for innovative and high-value sectors. However, retraining and reskilling will be essential to ensure that displaced workers can transition into new roles. Without adequate support systems and policies in place, many individuals may find themselves unable to adapt to the rapidly changing job market.\n",
      "\n",
      "**Conclusion**\n",
      "\n",
      "In conclusion, while Agentic AI has the potential to revolutionize industries and improve productivity, it should not replace human labor entirely. A synergistic approach, where AI complements human capabilities rather than replaces them, would be more beneficial. Future efforts should focus on developing policies that manage the transition in the workforce, ensuring workers are equipped with the necessary skills to thrive in an AI-integrated world. Further research into how AI can be ethically and effectively integrated into the workforce is crucial to balancing economic gains with societal wellbeing.\n",
      "\n",
      "🧠 Feedback:\n",
      "\n",
      "Overall, your essay offers a clear position and is organized into the classic introduction–body–conclusion format, but it could benefit from tighter structuring, sharper argumentation, and a more engaging writing style. In the introduction, you define “Agentic AI” and state your thesis, yet it reads somewhat generic—consider opening with a concrete example or statistic to hook the reader and then refine your thesis into a more assertive claim. In the body, you marshal solid evidence on productivity gains and job displacement, but the two perspectives feel compartmentalized rather than woven into a balanced, dialectical analysis; stronger topic sentences and explicit signposts (e.g., “However,” “Conversely,” “Building on this point…”) would help guide the reader through your logic. You rightly emphasize ethical and social concerns, but these points would carry more weight if you unpacked specific case studies or policy proposals rather than citing high-level reports alone. Your conclusion restates the main ideas, yet it misses an opportunity to leave the reader with a memorable call to action or a provocative question. Stylistically, watch for repeated phrasing (“potential to enhance,” “significant economic gains”) and vary sentence length to maintain momentum. Overall, deepen your examples, strengthen transitions, and punch up your language to elevate this good draft into a compelling, persuasive essay.\n",
      "\n",
      "✍️ Revised:\n",
      "\n",
      "**Should Agentic AI Replace Human Labor?**\n",
      "\n",
      "**Introduction**\n",
      "\n",
      "Imagine a factory floor where, instead of the bustling activity of workers, silent machines hum along, assembling products with laser precision. This scene is not just a futuristic vision but increasingly a reality ushered in by Agentic Artificial Intelligence (AI)—systems capable of autonomous decision-making. As industries from transportation to healthcare embrace AI, society must grapple with the question: Should Agentic AI replace human labor? While the promise of heightened efficiency and productivity is enticing, I contend that AI should not fully displace human labor. Instead, a collaborative approach that combines the strengths of both AI and humans will create a more resilient and ethically sound workforce. Though some argue that AI could unlock significant economic opportunities and liberate humans from monotonous tasks, the implications for society and morality demand a more nuanced consideration.\n",
      "\n",
      "**Body**\n",
      "\n",
      "Agentic AI offers the promise of unprecedented efficiency and productivity in various sectors, often performing tasks faster and with greater accuracy than humans. For instance, AI-powered automation has transformed manufacturing by slashing production times and reducing errors, enabling companies to scale operations dramatically. According to a McKinsey & Company report (2017), embracing AI could bolster global GDP by more than $13 trillion by 2030. However, while efficiency and economic growth are compelling arguments, they should not eclipse broader discussions about the future of work and human dignity.\n",
      "\n",
      "Despite the economic potential, the widespread displacement of human workers presents formidable societal and ethical challenges. The World Economic Forum (2020) warns that AI could eliminate 85 million jobs by 2025, accelerating unemployment and exacerbating income inequality. Moreover, AI systems lack human traits such as empathy, creativity, and moral judgment, which are vital in professions involving interpersonal interactions and ethical decision-making. For example, in healthcare, AI can assist in diagnostics but cannot replace the compassion vital for patient care.\n",
      "\n",
      "Critics who support AI-driven transformation note that AI can assume repetitive and hazardous tasks, freeing humans to pursue more creative and fulfilling careers. This perspective holds merit, as redirecting human talent towards innovation can lead to societal advancements. However, an enormous gap exists between potential and reality. The transition requires robust retraining and reskilling programs to equip displaced workers with the necessary skills to thrive in emerging sectors. Without it, many may struggle to adapt, leading to a workforce ill-prepared for the shift.\n",
      "\n",
      "**Conclusion**\n",
      "\n",
      "In conclusion, while Agentic AI presents significant opportunities to revolutionize industries, it should not fully supplant human labor. A symbiotic approach, wherein AI complements human ingenuity and empathy, promises a more balanced and sustainable future. Policymakers and business leaders must prioritize frameworks that facilitate this transition, ensuring workers are supported and society reaps the benefits without neglecting ethical considerations. As AI's influence grows, the priority should be to cultivate strategies that foster equitable economic growth and societal well-being, leaving us with a crucial consideration: How can we ensure that the integration of AI enhances, rather than diminishes, the human experience?\n"
     ]
    }
   ],
   "source": [
    "essay_prompt = \"Should Agentic AI replace human labors?\"\n",
    "\n",
    "# Agent 1 – Draft\n",
    "draft = generate_draft(essay_prompt)\n",
    "print(\"📝 Draft:\\n\")\n",
    "print(draft)\n",
    "\n",
    "# Agent 2 – Reflection\n",
    "feedback = reflect_on_draft(draft)\n",
    "print(\"\\n🧠 Feedback:\\n\")\n",
    "print(feedback)\n",
    "\n",
    "# Agent 3 – Revision\n",
    "revised = revise_draft(draft, feedback)\n",
    "print(\"\\n✍️ Revised:\\n\")\n",
    "print(revised)"
   ]
  },
  {
   "cell_type": "markdown",
   "id": "7e3eb897",
   "metadata": {},
   "source": [
    "To better visualize the output of each step in the reflective writing workflow, we use a utility function called `show_output`. This function displays the results of each stage (drafting, reflection, and revision) in styled boxes with custom background and text colors, making it easier to compare and understand the progression of the essay.\n"
   ]
  },
  {
   "cell_type": "code",
   "execution_count": 28,
   "id": "dcf5367c",
   "metadata": {},
   "outputs": [
    {
     "ename": "ModuleNotFoundError",
     "evalue": "No module named 'myutils'",
     "output_type": "error",
     "traceback": [
      "\u001b[0;31m---------------------------------------------------------------------------\u001b[0m",
      "\u001b[0;31mModuleNotFoundError\u001b[0m                       Traceback (most recent call last)",
      "Cell \u001b[0;32mIn[28], line 1\u001b[0m\n\u001b[0;32m----> 1\u001b[0m \u001b[38;5;28;01mimport\u001b[39;00m \u001b[38;5;21;01mimportlib\u001b[39;00m\u001b[38;5;241m,\u001b[39m \u001b[38;5;21;01mmyutils\u001b[39;00m\n\u001b[1;32m      2\u001b[0m importlib\u001b[38;5;241m.\u001b[39mreload(myutils)\n\u001b[1;32m      3\u001b[0m \u001b[38;5;28;01mfrom\u001b[39;00m \u001b[38;5;21;01mmyutils\u001b[39;00m \u001b[38;5;28;01mimport\u001b[39;00m show_output\n",
      "\u001b[0;31mModuleNotFoundError\u001b[0m: No module named 'myutils'"
     ]
    }
   ],
   "source": []
  },
  {
   "cell_type": "code",
   "execution_count": 33,
   "id": "f98b7f46",
   "metadata": {},
   "outputs": [
    {
     "name": "stdout",
     "output_type": "stream",
     "text": [
      "/Users/chohasong/Documents/GitHub/Agentic-AI-Reflection-Design-Pattern/Reflection_Design_Pattern/Research_Agent\n"
     ]
    }
   ],
   "source": [
    "# change dr: %cd Research_Agent/"
   ]
  },
  {
   "cell_type": "code",
   "execution_count": 34,
   "id": "8dd4d18a",
   "metadata": {},
   "outputs": [],
   "source": [
    "\n",
    "import importlib, myutils\n",
    "importlib.reload(myutils)\n",
    "from myutils import show_output\n"
   ]
  },
  {
   "cell_type": "code",
   "execution_count": 35,
   "id": "50667ba3",
   "metadata": {
    "deletable": false,
    "editable": false,
    "height": 131
   },
   "outputs": [
    {
     "data": {
      "text/html": [
       "\n",
       "    <div style=\"\n",
       "        background-color: #fff8dc;\n",
       "        color: #333333;\n",
       "        border-radius: 12px;\n",
       "        padding: 20px;\n",
       "        margin: 15px 0;\n",
       "        font-family: 'Segoe UI', sans-serif;\n",
       "        line-height: 1.6;\n",
       "        box-shadow: 0 2px 6px rgba(0, 0, 0, 0.1);\n",
       "    \">\n",
       "        <h3 style=\"margin-top: 0;\">Step 1 – Draft</h3>\n",
       "        <pre style=\"white-space: pre-wrap; font-size: 15px;\">**Should Agentic AI Replace Human Labor?**\n",
       "\n",
       "**Introduction**\n",
       "\n",
       "The advent of Agentic Artificial Intelligence (AI), defined as AI systems capable of making autonomous decisions, has sparked debates regarding its role in the workforce. With the advancement in AI technologies, there is a growing trend of implementing these systems in industries ranging from manufacturing and transportation to healthcare and customer service. As we stand on the brink of a fourth industrial revolution, it is imperative to question whether Agentic AI should replace human labor. In this discourse, I argue that while Agentic AI has the potential to enhance efficiency and productivity, it should not replace human labor altogether. Instead, a complementary approach should be adopted, where AI and humans work in tandem. Opponents, however, assert that AI could lead to significant economic gains and free humans from mundane tasks.\n",
       "\n",
       "**Body**\n",
       "\n",
       "Agentic AI promises increased efficiency and productivity in various sectors. Numerous studies indicate that AI technologies can perform tasks faster and with higher precision than humans. For example, AI-driven automation has already revolutionized manufacturing processes by significantly reducing production times and minimizing errors. According to a report by McKinsey & Company (2017), AI could increase global GDP by over $13 trillion by 2030. The potential for economic expansion is substantial, but it is important to note that efficiency should not be the sole determinant in the discussion of job replacement.\n",
       "\n",
       "On the contrary, the displacement of human workers poses several societal and ethical concerns. A study by the World Economic Forum (2020) highlights that the rise of AI could displace 85 million jobs by 2025. This transition could exacerbate unemployment rates, increase income inequality, and cause societal disruption if not managed properly. Furthermore, AI systems currently lack human qualities such as empathy, creativity, and moral reasoning, which are crucial in certain professions, especially those involving human interactions and ethical decision-making.\n",
       "\n",
       "Critics of retaining human labor argue that AI can take over repetitive and dangerous tasks, thereby freeing humans to engage in more creative and meaningful work. This is a valid point; automation of menial jobs can indeed lead to freeing up workforce potential for innovative and high-value sectors. However, retraining and reskilling will be essential to ensure that displaced workers can transition into new roles. Without adequate support systems and policies in place, many individuals may find themselves unable to adapt to the rapidly changing job market.\n",
       "\n",
       "**Conclusion**\n",
       "\n",
       "In conclusion, while Agentic AI has the potential to revolutionize industries and improve productivity, it should not replace human labor entirely. A synergistic approach, where AI complements human capabilities rather than replaces them, would be more beneficial. Future efforts should focus on developing policies that manage the transition in the workforce, ensuring workers are equipped with the necessary skills to thrive in an AI-integrated world. Further research into how AI can be ethically and effectively integrated into the workforce is crucial to balancing economic gains with societal wellbeing.</pre>\n",
       "    </div>\n",
       "    "
      ],
      "text/plain": [
       "<IPython.core.display.HTML object>"
      ]
     },
     "metadata": {},
     "output_type": "display_data"
    },
    {
     "data": {
      "text/html": [
       "\n",
       "    <div style=\"\n",
       "        background-color: #e0f7fa;\n",
       "        color: #222222;\n",
       "        border-radius: 12px;\n",
       "        padding: 20px;\n",
       "        margin: 15px 0;\n",
       "        font-family: 'Segoe UI', sans-serif;\n",
       "        line-height: 1.6;\n",
       "        box-shadow: 0 2px 6px rgba(0, 0, 0, 0.1);\n",
       "    \">\n",
       "        <h3 style=\"margin-top: 0;\">Step 2 – Reflection</h3>\n",
       "        <pre style=\"white-space: pre-wrap; font-size: 15px;\">Overall, your essay offers a clear position and is organized into the classic introduction–body–conclusion format, but it could benefit from tighter structuring, sharper argumentation, and a more engaging writing style. In the introduction, you define “Agentic AI” and state your thesis, yet it reads somewhat generic—consider opening with a concrete example or statistic to hook the reader and then refine your thesis into a more assertive claim. In the body, you marshal solid evidence on productivity gains and job displacement, but the two perspectives feel compartmentalized rather than woven into a balanced, dialectical analysis; stronger topic sentences and explicit signposts (e.g., “However,” “Conversely,” “Building on this point…”) would help guide the reader through your logic. You rightly emphasize ethical and social concerns, but these points would carry more weight if you unpacked specific case studies or policy proposals rather than citing high-level reports alone. Your conclusion restates the main ideas, yet it misses an opportunity to leave the reader with a memorable call to action or a provocative question. Stylistically, watch for repeated phrasing (“potential to enhance,” “significant economic gains”) and vary sentence length to maintain momentum. Overall, deepen your examples, strengthen transitions, and punch up your language to elevate this good draft into a compelling, persuasive essay.</pre>\n",
       "    </div>\n",
       "    "
      ],
      "text/plain": [
       "<IPython.core.display.HTML object>"
      ]
     },
     "metadata": {},
     "output_type": "display_data"
    },
    {
     "data": {
      "text/html": [
       "\n",
       "    <div style=\"\n",
       "        background-color: #f3e5f5;\n",
       "        color: #222222;\n",
       "        border-radius: 12px;\n",
       "        padding: 20px;\n",
       "        margin: 15px 0;\n",
       "        font-family: 'Segoe UI', sans-serif;\n",
       "        line-height: 1.6;\n",
       "        box-shadow: 0 2px 6px rgba(0, 0, 0, 0.1);\n",
       "    \">\n",
       "        <h3 style=\"margin-top: 0;\">Step 3 – Revision</h3>\n",
       "        <pre style=\"white-space: pre-wrap; font-size: 15px;\">**Should Agentic AI Replace Human Labor?**\n",
       "\n",
       "**Introduction**\n",
       "\n",
       "Imagine a factory floor where, instead of the bustling activity of workers, silent machines hum along, assembling products with laser precision. This scene is not just a futuristic vision but increasingly a reality ushered in by Agentic Artificial Intelligence (AI)—systems capable of autonomous decision-making. As industries from transportation to healthcare embrace AI, society must grapple with the question: Should Agentic AI replace human labor? While the promise of heightened efficiency and productivity is enticing, I contend that AI should not fully displace human labor. Instead, a collaborative approach that combines the strengths of both AI and humans will create a more resilient and ethically sound workforce. Though some argue that AI could unlock significant economic opportunities and liberate humans from monotonous tasks, the implications for society and morality demand a more nuanced consideration.\n",
       "\n",
       "**Body**\n",
       "\n",
       "Agentic AI offers the promise of unprecedented efficiency and productivity in various sectors, often performing tasks faster and with greater accuracy than humans. For instance, AI-powered automation has transformed manufacturing by slashing production times and reducing errors, enabling companies to scale operations dramatically. According to a McKinsey & Company report (2017), embracing AI could bolster global GDP by more than $13 trillion by 2030. However, while efficiency and economic growth are compelling arguments, they should not eclipse broader discussions about the future of work and human dignity.\n",
       "\n",
       "Despite the economic potential, the widespread displacement of human workers presents formidable societal and ethical challenges. The World Economic Forum (2020) warns that AI could eliminate 85 million jobs by 2025, accelerating unemployment and exacerbating income inequality. Moreover, AI systems lack human traits such as empathy, creativity, and moral judgment, which are vital in professions involving interpersonal interactions and ethical decision-making. For example, in healthcare, AI can assist in diagnostics but cannot replace the compassion vital for patient care.\n",
       "\n",
       "Critics who support AI-driven transformation note that AI can assume repetitive and hazardous tasks, freeing humans to pursue more creative and fulfilling careers. This perspective holds merit, as redirecting human talent towards innovation can lead to societal advancements. However, an enormous gap exists between potential and reality. The transition requires robust retraining and reskilling programs to equip displaced workers with the necessary skills to thrive in emerging sectors. Without it, many may struggle to adapt, leading to a workforce ill-prepared for the shift.\n",
       "\n",
       "**Conclusion**\n",
       "\n",
       "In conclusion, while Agentic AI presents significant opportunities to revolutionize industries, it should not fully supplant human labor. A symbiotic approach, wherein AI complements human ingenuity and empathy, promises a more balanced and sustainable future. Policymakers and business leaders must prioritize frameworks that facilitate this transition, ensuring workers are supported and society reaps the benefits without neglecting ethical considerations. As AI's influence grows, the priority should be to cultivate strategies that foster equitable economic growth and societal well-being, leaving us with a crucial consideration: How can we ensure that the integration of AI enhances, rather than diminishes, the human experience?</pre>\n",
       "    </div>\n",
       "    "
      ],
      "text/plain": [
       "<IPython.core.display.HTML object>"
      ]
     },
     "metadata": {},
     "output_type": "display_data"
    }
   ],
   "source": [
    "# from utils import show_output\n",
    "\n",
    "essay_prompt = \"Should Agentic AI replace human labors?\"\n",
    "\n",
    "show_output(\"Step 1 – Draft\", draft, background=\"#fff8dc\", text_color=\"#333333\")\n",
    "show_output(\"Step 2 – Reflection\", feedback, background=\"#e0f7fa\", text_color=\"#222222\")\n",
    "show_output(\"Step 3 – Revision\", revised, background=\"#f3e5f5\", text_color=\"#222222\")"
   ]
  }
 ],
 "metadata": {
  "grader_version": "1",
  "kernelspec": {
   "display_name": "Python 3 (ipykernel)",
   "language": "python",
   "name": "python3"
  },
  "language_info": {
   "codemirror_mode": {
    "name": "ipython",
    "version": 3
   },
   "file_extension": ".py",
   "mimetype": "text/x-python",
   "name": "python",
   "nbconvert_exporter": "python",
   "pygments_lexer": "ipython3",
   "version": "3.11.4"
  }
 },
 "nbformat": 4,
 "nbformat_minor": 5
}
