{
 "cells": [
  {
   "cell_type": "markdown",
   "metadata": {},
   "source": [
    "# Project Overview\n",
    "\n",
    "This project demonstrates the reflection pattern within an agentic AI workflow that autonomously generates and improves SQL generation.\n",
    "\n",
    "The notebook replicates an exercise from Deeplearning.AI’s “Agentic AI” course, adapted to use a different dataset. Majority of the code in this notebook is from the “Agentic AI” course.\n"
   ]
  },
  {
   "cell_type": "markdown",
   "metadata": {},
   "source": [
    "# Agentic Workflow\n",
    "1. LLM: Use LLM to Query a Database\n",
    "2. Execution Code: Query Exection\n",
    "3. LLM: Use LLM as Reflection (Give Query Output as Feedback)"
   ]
  },
  {
   "cell_type": "markdown",
   "metadata": {},
   "source": [
    "# 0. Import Packages, Load Data, and Setup"
   ]
  },
  {
   "cell_type": "code",
   "execution_count": 13,
   "metadata": {},
   "outputs": [],
   "source": [
    "import json\n",
    "import utils\n",
    "import pandas as pd\n",
    "from dotenv import load_dotenv\n",
    "\n",
    "_ = load_dotenv()"
   ]
  },
  {
   "cell_type": "code",
   "execution_count": 14,
   "metadata": {},
   "outputs": [],
   "source": [
    "# ai suite: https://github.com/andrewyng/aisuite\n",
    "import aisuite as ai\n",
    "\n",
    "client = ai.Client()"
   ]
  },
  {
   "cell_type": "code",
   "execution_count": 25,
   "metadata": {},
   "outputs": [
    {
     "data": {
      "text/plain": [
       "<module 'utils' from '/Users/chohasong/Documents/GitHub/Agentic-AI-Reflection-Design-Pattern-2/utils.py'>"
      ]
     },
     "execution_count": 25,
     "metadata": {},
     "output_type": "execute_result"
    }
   ],
   "source": [
    "# load utils\n",
    "import importlib, utils\n",
    "importlib.reload(utils)"
   ]
  },
  {
   "cell_type": "code",
   "execution_count": 18,
   "metadata": {},
   "outputs": [
    {
     "data": {
      "text/plain": [
       "'/Users/chohasong/Documents/GitHub/Agentic-AI-Reflection-Design-Pattern-2/products.db'"
      ]
     },
     "execution_count": 18,
     "metadata": {},
     "output_type": "execute_result"
    }
   ],
   "source": [
    "# set up database \n",
    "utils.create_transactions_db()"
   ]
  },
  {
   "cell_type": "code",
   "execution_count": 5,
   "metadata": {},
   "outputs": [
    {
     "data": {
      "text/html": [
       "<h3>Schema: transactions</h3>\n",
       "<table border='1' cellpadding='6' cellspacing='0'>\n",
       "<thead><tr><th>cid</th><th>name</th><th>type</th><th>notnull</th><th>default</th><th>pk</th></tr></thead>\n",
       "<tbody>\n",
       "<tr><td>0</td><td>id</td><td>INTEGER</td><td>0</td><td>None</td><td>1</td></tr>\n",
       "<tr><td>1</td><td>product_id</td><td>INTEGER</td><td>0</td><td>None</td><td>0</td></tr>\n",
       "<tr><td>2</td><td>product_name</td><td>TEXT</td><td>0</td><td>None</td><td>0</td></tr>\n",
       "<tr><td>3</td><td>brand</td><td>TEXT</td><td>0</td><td>None</td><td>0</td></tr>\n",
       "<tr><td>4</td><td>category</td><td>TEXT</td><td>0</td><td>None</td><td>0</td></tr>\n",
       "<tr><td>5</td><td>color</td><td>TEXT</td><td>0</td><td>None</td><td>0</td></tr>\n",
       "<tr><td>6</td><td>action</td><td>TEXT</td><td>0</td><td>None</td><td>0</td></tr>\n",
       "<tr><td>7</td><td>qty_delta</td><td>INTEGER</td><td>0</td><td>None</td><td>0</td></tr>\n",
       "<tr><td>8</td><td>unit_price</td><td>REAL</td><td>0</td><td>None</td><td>0</td></tr>\n",
       "<tr><td>9</td><td>notes</td><td>TEXT</td><td>0</td><td>None</td><td>0</td></tr>\n",
       "<tr><td>10</td><td>ts</td><td>DATETIME</td><td>0</td><td>None</td><td>0</td></tr>\n",
       "</tbody></table>\n",
       "\n",
       "    <p><b>Schema overview</b>:</p>\n",
       "    <ul>\n",
       "      <li><b>id</b> → unique event ID (autoincrement).</li>\n",
       "      <li><b>product_id, product_name, brand, category, color</b> → identify the product.</li>\n",
       "      <li><b>action</b> → type of event (<i>insert, restock, sale, price_update</i>).</li>\n",
       "      <li><b>qty_delta</b> → stock change (+ for insert/restock, – for sale, 0 for price updates).</li>\n",
       "      <li><b>unit_price</b> → price at that moment (NULL for restock).</li>\n",
       "      <li><b>notes</b> → optional description of the event.</li>\n",
       "      <li><b>ts</b> → timestamp when the event was logged.</li>\n",
       "    </ul>\n",
       "    "
      ],
      "text/plain": [
       "<IPython.core.display.HTML object>"
      ]
     },
     "metadata": {},
     "output_type": "display_data"
    }
   ],
   "source": [
    "utils.print_html(utils.get_schema(\"products.db\"))\n"
   ]
  },
  {
   "cell_type": "markdown",
   "metadata": {},
   "source": [
    "# 1. Build SQL Generator"
   ]
  },
  {
   "cell_type": "markdown",
   "metadata": {},
   "source": [
    "## 1a. Use an LLM to Query a Database\n",
    "\n",
    "- Turn NLP query question into a text\n",
    "- Provide question and the database schema as input\n",
    "- Example is: \"Which color of product has the highest total sales?\" given a product schema (product, brand, category, color, action, qty, price, ts)"
   ]
  },
  {
   "cell_type": "code",
   "execution_count": 19,
   "metadata": {},
   "outputs": [
    {
     "data": {
      "text/html": [
       "\n",
       "        <div style='font-family:Arial, sans-serif; margin:10px 0;'>\n",
       "            <h3 style='color:#2F4F4F;'>User Question</h3>\n",
       "            <pre>Which color of product has the highest total sales?</pre>\n",
       "        </div>\n",
       "        "
      ],
      "text/plain": [
       "<IPython.core.display.HTML object>"
      ]
     },
     "metadata": {},
     "output_type": "display_data"
    },
    {
     "data": {
      "text/html": [
       "\n",
       "        <div style='font-family:Arial, sans-serif; margin:10px 0;'>\n",
       "            <h3 style='color:#2F4F4F;'>SQL Query V1</h3>\n",
       "            <pre>```sql\n",
       "SELECT color, SUM(qty_delta * unit_price) AS total_sales\n",
       "FROM transactions\n",
       "WHERE action = &#x27;sale&#x27;\n",
       "GROUP BY color\n",
       "ORDER BY total_sales DESC\n",
       "LIMIT 1;\n",
       "```</pre>\n",
       "        </div>\n",
       "        "
      ],
      "text/plain": [
       "<IPython.core.display.HTML object>"
      ]
     },
     "metadata": {},
     "output_type": "display_data"
    }
   ],
   "source": [
    "# Example usage of generate_sql\n",
    "\n",
    "# We provide the schema as a string\n",
    "schema = \"\"\"\n",
    "Table name: transactions\n",
    "id (INTEGER)\n",
    "product_id (INTEGER)\n",
    "product_name (TEXT)\n",
    "brand (TEXT)\n",
    "category (TEXT)\n",
    "color (TEXT)\n",
    "action (TEXT)\n",
    "qty_delta (INTEGER)\n",
    "unit_price (REAL)\n",
    "notes (TEXT)\n",
    "ts (DATETIME)\n",
    "\"\"\"\n",
    "\n",
    "# We ask a question about the data in natural language\n",
    "question = \"Which color of product has the highest total sales?\"\n",
    "\n",
    "utils.print_html(question, title=\"User Question\")\n",
    "\n",
    "# Generate the SQL query using the specified model\n",
    "sql_V1 = utils.generate_sql(question, schema, model=\"openai:gpt-4.1\")\n",
    "\n",
    "# Display the generated SQL query\n",
    "utils.print_html(sql_V1, title=\"SQL Query V1\")"
   ]
  },
  {
   "cell_type": "markdown",
   "metadata": {},
   "source": [
    "## 1b. Query Execution for Query v1 based on LLM v1"
   ]
  },
  {
   "cell_type": "code",
   "execution_count": 26,
   "metadata": {},
   "outputs": [
    {
     "data": {
      "text/html": [
       "\n",
       "        <div style='font-family:Arial, sans-serif; margin:10px 0;'>\n",
       "            <h3 style='color:#2F4F4F;'>Output of SQL Query V1 - ❌ Does NOT fully answer the question</h3>\n",
       "            <pre>    color  total_sales\n",
       "0  Silver    -23348.03</pre>\n",
       "        </div>\n",
       "        "
      ],
      "text/plain": [
       "<IPython.core.display.HTML object>"
      ]
     },
     "metadata": {},
     "output_type": "display_data"
    }
   ],
   "source": [
    "# Execute the generated SQL query (sql_V1) against the products.db database.\n",
    "# The result is returned as a pandas DataFrame.\n",
    "df_sql_V1 = utils.execute_sql(sql_V1, db_path='products.db')\n",
    "\n",
    "# Render the DataFrame as an HTML table in the notebook.\n",
    "# This makes the query output easier to read and interpret.\n",
    "utils.print_html(df_sql_V1, title=\"Output of SQL Query V1 - ❌ Does NOT fully answer the question\")\n"
   ]
  },
  {
   "cell_type": "markdown",
   "metadata": {},
   "source": [
    "**Results**\n",
    "\n",
    "- The query returns Silver product, with highest total sales of negative value. \n",
    "\n",
    "- This is because total sales is determined by qty_delta * unit price. \n",
    "\n",
    "- qty_delta is negative for sales (inventory leaving), and positive number for returns or restocks (inventory added)\n",
    "\n",
    "- The query used SUM(qty_delta), so when summing across transactions, the sales dominate returns and produce a negative total sales.\n",
    "\n",
    "- The LLM query output is technically valid but semantically wrong because we weren't expecting a negative total sales. This suggests a need for reflection so that we get the total sales."
   ]
  },
  {
   "cell_type": "markdown",
   "metadata": {},
   "source": [
    "## 1c. Improving SQL Queries with Reflection\n",
    "\n",
    "Inputs:\n",
    "\n",
    "- the user’s question\n",
    "- the original SQL query\n",
    "- the table schema\n",
    "\n",
    "Outputs:\n",
    "\n",
    "- feedback → a short evaluation (e.g., “valid but missing a date filter”)\n",
    "- refined_sql → the final SQL (unchanged if correct, or updated if improvements are needed)"
   ]
  },
  {
   "cell_type": "code",
   "execution_count": 27,
   "metadata": {},
   "outputs": [],
   "source": [
    "def refine_sql(\n",
    "    question: str,\n",
    "    sql_query: str,\n",
    "    schema: str,\n",
    "    model: str,\n",
    ") -> tuple[str, str]:\n",
    "    \"\"\"\n",
    "    Reflect on whether a query's *shown output* answers the question,\n",
    "    and propose an improved SQL if needed.\n",
    "    Returns (feedback, refined_sql).\n",
    "    \"\"\"\n",
    "    prompt = f\"\"\"\n",
    "You are a SQL reviewer and refiner.\n",
    "\n",
    "User asked:\n",
    "{question}\n",
    "\n",
    "Original SQL:\n",
    "{sql_query}\n",
    "\n",
    "Table Schema:\n",
    "{schema}\n",
    "\n",
    "Step 1: Briefly evaluate if the SQL OUTPUT fully answers the user's question.\n",
    "Step 2: If improvement is needed, provide a refined SQL query for SQLite.\n",
    "If the original SQL is already correct, return it unchanged.\n",
    "\n",
    "Return STRICT JSON with two fields:\n",
    "{{\n",
    "  \"feedback\": \"<1-3 sentences explaining the gap or confirming correctness>\",\n",
    "  \"refined_sql\": \"<final SQL to run>\"\n",
    "}}\n",
    "\"\"\"\n",
    "    response = client.chat.completions.create(\n",
    "        model=model,\n",
    "        messages=[{\"role\": \"user\", \"content\": prompt}],\n",
    "        temperature=0,\n",
    "    )\n",
    "\n",
    "    content = response.choices[0].message.content\n",
    "    try:\n",
    "        obj = json.loads(content)\n",
    "        feedback = str(obj.get(\"feedback\", \"\")).strip()\n",
    "        refined_sql = str(obj.get(\"refined_sql\", sql_query)).strip()\n",
    "        if not refined_sql:\n",
    "            refined_sql = sql_query\n",
    "    except Exception:\n",
    "        # Fallback if model doesn't return valid JSON\n",
    "        feedback = content.strip()\n",
    "        refined_sql = sql_query\n",
    "\n",
    "    return feedback, refined_sql\n"
   ]
  },
  {
   "cell_type": "markdown",
   "metadata": {},
   "source": [
    "- Display the initial SQL query (V1) generated for the question “Which color of product has the highest total sales?”\n",
    "- Show the model’s feedback and its refined SQL proposal (V2).\n",
    "- Execute the original SQL (V1) against the database and present its actual output, so you can see why refinement was needed."
   ]
  },
  {
   "cell_type": "code",
   "execution_count": 28,
   "metadata": {},
   "outputs": [
    {
     "data": {
      "text/html": [
       "\n",
       "        <div style='font-family:Arial, sans-serif; margin:10px 0;'>\n",
       "            <h3 style='color:#2F4F4F;'>User Question</h3>\n",
       "            <pre>Which color of product has the highest total sales?</pre>\n",
       "        </div>\n",
       "        "
      ],
      "text/plain": [
       "<IPython.core.display.HTML object>"
      ]
     },
     "metadata": {},
     "output_type": "display_data"
    },
    {
     "data": {
      "text/html": [
       "\n",
       "        <div style='font-family:Arial, sans-serif; margin:10px 0;'>\n",
       "            <h3 style='color:#2F4F4F;'>Generated SQL Query (V1)</h3>\n",
       "            <pre>```sql\n",
       "SELECT color, SUM(qty_delta * unit_price) AS total_sales\n",
       "FROM transactions\n",
       "WHERE action = &#x27;sale&#x27;\n",
       "GROUP BY color\n",
       "ORDER BY total_sales DESC\n",
       "LIMIT 1;\n",
       "```</pre>\n",
       "        </div>\n",
       "        "
      ],
      "text/plain": [
       "<IPython.core.display.HTML object>"
      ]
     },
     "metadata": {},
     "output_type": "display_data"
    },
    {
     "data": {
      "text/html": [
       "\n",
       "        <div style='font-family:Arial, sans-serif; margin:10px 0;'>\n",
       "            <h3 style='color:#2F4F4F;'>SQL Output of V1 - ❌ Does NOT fully answer the question</h3>\n",
       "            <pre>    color  total_sales\n",
       "0  Silver    -23348.03</pre>\n",
       "        </div>\n",
       "        "
      ],
      "text/plain": [
       "<IPython.core.display.HTML object>"
      ]
     },
     "metadata": {},
     "output_type": "display_data"
    },
    {
     "data": {
      "text/html": [
       "\n",
       "        <div style='font-family:Arial, sans-serif; margin:10px 0;'>\n",
       "            <h3 style='color:#2F4F4F;'>Feedback on V1</h3>\n",
       "            <pre>The original SQL correctly calculates the total sales for each color by summing the product of qty_delta and unit_price for &#x27;sale&#x27; actions, then returns the color with the highest total sales. It fully answers the user&#x27;s question.</pre>\n",
       "        </div>\n",
       "        "
      ],
      "text/plain": [
       "<IPython.core.display.HTML object>"
      ]
     },
     "metadata": {},
     "output_type": "display_data"
    },
    {
     "data": {
      "text/html": [
       "\n",
       "        <div style='font-family:Arial, sans-serif; margin:10px 0;'>\n",
       "            <h3 style='color:#2F4F4F;'>Refined SQL Query (V2)</h3>\n",
       "            <pre>SELECT color, SUM(qty_delta * unit_price) AS total_sales\n",
       "FROM transactions\n",
       "WHERE action = &#x27;sale&#x27;\n",
       "GROUP BY color\n",
       "ORDER BY total_sales DESC\n",
       "LIMIT 1;</pre>\n",
       "        </div>\n",
       "        "
      ],
      "text/plain": [
       "<IPython.core.display.HTML object>"
      ]
     },
     "metadata": {},
     "output_type": "display_data"
    },
    {
     "data": {
      "text/html": [
       "\n",
       "        <div style='font-family:Arial, sans-serif; margin:10px 0;'>\n",
       "            <h3 style='color:#2F4F4F;'>SQL Output of V2 - ❌ Does NOT fully answer the question</h3>\n",
       "            <pre>    color  total_sales\n",
       "0  Silver    -23348.03</pre>\n",
       "        </div>\n",
       "        "
      ],
      "text/plain": [
       "<IPython.core.display.HTML object>"
      ]
     },
     "metadata": {},
     "output_type": "display_data"
    }
   ],
   "source": [
    "# Example: refine the generated SQL (V1 → V2)\n",
    "\n",
    "feedback, sql_V2 = refine_sql(\n",
    "    question=question,\n",
    "    sql_query=sql_V1,   # <- comes from generate_sql() (V1)\n",
    "    schema=schema, # <- we reuse the schema from section 3.1\n",
    "    model=\"openai:gpt-4.1\"\n",
    ")\n",
    "\n",
    "# Display the original prompt\n",
    "utils.print_html(question, title=\"User Question\")\n",
    "\n",
    "# --- V1 ---\n",
    "utils.print_html(sql_V1, title=\"Generated SQL Query (V1)\")\n",
    "\n",
    "# Execute and show V1 output\n",
    "df_sql_V1 = utils.execute_sql(sql_V1, db_path='products.db')\n",
    "utils.print_html(df_sql_V1, title=\"SQL Output of V1 - ❌ Does NOT fully answer the question\")\n",
    "\n",
    "# --- Feedback + V2 ---\n",
    "utils.print_html(feedback, title=\"Feedback on V1\")\n",
    "utils.print_html(sql_V2, title=\"Refined SQL Query (V2)\")\n",
    "\n",
    "# Execute and show V2 output\n",
    "df_sql_V2 = utils.execute_sql(sql_V2, db_path='products.db')\n",
    "utils.print_html(df_sql_V2, title=\"SQL Output of V2 - ❌ Does NOT fully answer the question\")"
   ]
  },
  {
   "cell_type": "markdown",
   "metadata": {},
   "source": [
    "The output still returns incorrect sql query. This happened because the SQL multiplied qty_delta * unit_price without considering that sales events store negative quantities (qty_delta < 0). The sign inversion (+ vs –) is a subtle semantic issue that cannot always be detected by reviewing the query text alone"
   ]
  },
  {
   "cell_type": "markdown",
   "metadata": {},
   "source": [
    "That’s why the agent must also reflect on the execution output — to catch problems like wrong signs, missing filters, or incorrect aggregations. External feedback from query results grounds the refinement process in reality, not just in the structure of the SQL."
   ]
  },
  {
   "cell_type": "markdown",
   "metadata": {},
   "source": [
    "## 1d. Refine an SQL Query with External Feedback\n",
    "\n",
    "- Display the original SQL query (V1) generated from your question.\n",
    "- Show the output of V1, which highlights why the initial attempt does not fully answer the question.\n",
    "- Provide feedback from the LLM based on that output.\n",
    "- Present the refined SQL query (V2) that addresses the issue.\n",
    "- Execute V2 and display its output, confirming that it now ✅ fully answers the question."
   ]
  },
  {
   "cell_type": "markdown",
   "metadata": {},
   "source": [
    "What’s different?\n",
    "\n",
    "Signal used\n",
    "\n",
    "refine_sql: Uses question + schema + original SQL only. No visibility into what V1 returned.\n",
    "\n",
    "refine_sql_external_feedback: Adds df_feedback (the actual V1 output) converted to Markdown. The model sees the result data and can catch issues like empty rows, wrong grouping, missing filters, wrong metric (e.g., forgot WHERE action='sale'), etc.\n",
    "\n",
    "Objective\n",
    "\n",
    "refine_sql: “Improve the query” based on intent and schema reasoning.\n",
    "\n",
    "refine_sql_external_feedback: Evaluate whether V1 answered the question, then propose a refined SQL if needed. It’s an evaluative loop, not just a rewrite."
   ]
  },
  {
   "cell_type": "code",
   "execution_count": 31,
   "metadata": {},
   "outputs": [],
   "source": [
    "def refine_sql_external_feedback(\n",
    "    question: str,\n",
    "    sql_query: str,\n",
    "    df_feedback: pd.DataFrame, ## integrate feedback \n",
    "    schema: str,\n",
    "    model: str,\n",
    ") -> tuple[str, str]:\n",
    "    \"\"\"\n",
    "    Evaluate whether the SQL result answers the user's question and,\n",
    "    if necessary, propose a refined version of the query.\n",
    "    Returns (feedback, refined_sql).\n",
    "    \"\"\"\n",
    "    prompt = f\"\"\"\n",
    "    You are a SQL reviewer and refiner.\n",
    "\n",
    "    User asked:\n",
    "    {question}\n",
    "\n",
    "    Original SQL:\n",
    "    {sql_query}\n",
    "\n",
    "    SQL Output:\n",
    "    {df_feedback.to_markdown(index=False)}\n",
    "\n",
    "    Table Schema:\n",
    "    {schema}\n",
    "\n",
    "    Step 1: Briefly evaluate if the SQL output answers the user's question.\n",
    "    Step 2: If the SQL could be improved, provide a refined SQL query.\n",
    "    If the original SQL is already correct, return it unchanged.\n",
    "\n",
    "    Return a strict JSON object with two fields:\n",
    "    - \"feedback\": brief evaluation and suggestions\n",
    "    - \"refined_sql\": the final SQL to run\n",
    "    \"\"\"\n",
    "\n",
    "    response = client.chat.completions.create(\n",
    "        model=model,\n",
    "        messages=[{\"role\": \"user\", \"content\": prompt}],\n",
    "        temperature=1.0,\n",
    "    )\n",
    "\n",
    "    \n",
    "    content = response.choices[0].message.content\n",
    "    try:\n",
    "        obj = json.loads(content)\n",
    "        feedback = str(obj.get(\"feedback\", \"\")).strip()\n",
    "        refined_sql = str(obj.get(\"refined_sql\", sql_query)).strip()\n",
    "        if not refined_sql:\n",
    "            refined_sql = sql_query\n",
    "    except Exception:\n",
    "        # Fallback if the model does not return valid JSON:\n",
    "        # use the raw content as feedback and keep the original SQL\n",
    "        feedback = content.strip()\n",
    "        refined_sql = sql_query\n",
    "\n",
    "    return feedback, refined_sql"
   ]
  },
  {
   "cell_type": "code",
   "execution_count": 35,
   "metadata": {},
   "outputs": [
    {
     "data": {
      "text/html": [
       "<div>\n",
       "<style scoped>\n",
       "    .dataframe tbody tr th:only-of-type {\n",
       "        vertical-align: middle;\n",
       "    }\n",
       "\n",
       "    .dataframe tbody tr th {\n",
       "        vertical-align: top;\n",
       "    }\n",
       "\n",
       "    .dataframe thead th {\n",
       "        text-align: right;\n",
       "    }\n",
       "</style>\n",
       "<table border=\"1\" class=\"dataframe\">\n",
       "  <thead>\n",
       "    <tr style=\"text-align: right;\">\n",
       "      <th></th>\n",
       "      <th>color</th>\n",
       "      <th>total_sales</th>\n",
       "    </tr>\n",
       "  </thead>\n",
       "  <tbody>\n",
       "    <tr>\n",
       "      <th>0</th>\n",
       "      <td>Silver</td>\n",
       "      <td>-23348.03</td>\n",
       "    </tr>\n",
       "  </tbody>\n",
       "</table>\n",
       "</div>"
      ],
      "text/plain": [
       "    color  total_sales\n",
       "0  Silver    -23348.03"
      ]
     },
     "execution_count": 35,
     "metadata": {},
     "output_type": "execute_result"
    }
   ],
   "source": [
    "# Output of V1\n",
    "df_sql_V1"
   ]
  },
  {
   "cell_type": "code",
   "execution_count": 34,
   "metadata": {},
   "outputs": [
    {
     "data": {
      "text/html": [
       "\n",
       "        <div style='font-family:Arial, sans-serif; margin:10px 0;'>\n",
       "            <h3 style='color:#2F4F4F;'>User Question</h3>\n",
       "            <pre>Which color of product has the highest total sales?</pre>\n",
       "        </div>\n",
       "        "
      ],
      "text/plain": [
       "<IPython.core.display.HTML object>"
      ]
     },
     "metadata": {},
     "output_type": "display_data"
    },
    {
     "data": {
      "text/html": [
       "\n",
       "        <div style='font-family:Arial, sans-serif; margin:10px 0;'>\n",
       "            <h3 style='color:#2F4F4F;'>Generated SQL Query (V1)</h3>\n",
       "            <pre>```sql\n",
       "SELECT color, SUM(qty_delta * unit_price) AS total_sales\n",
       "FROM transactions\n",
       "WHERE action = &#x27;sale&#x27;\n",
       "GROUP BY color\n",
       "ORDER BY total_sales DESC\n",
       "LIMIT 1;\n",
       "```</pre>\n",
       "        </div>\n",
       "        "
      ],
      "text/plain": [
       "<IPython.core.display.HTML object>"
      ]
     },
     "metadata": {},
     "output_type": "display_data"
    },
    {
     "data": {
      "text/html": [
       "\n",
       "        <div style='font-family:Arial, sans-serif; margin:10px 0;'>\n",
       "            <h3 style='color:#2F4F4F;'>SQL Output of V1 - ❌ Does NOT fully answer the question</h3>\n",
       "            <pre>    color  total_sales\n",
       "0  Silver    -23348.03</pre>\n",
       "        </div>\n",
       "        "
      ],
      "text/plain": [
       "<IPython.core.display.HTML object>"
      ]
     },
     "metadata": {},
     "output_type": "display_data"
    },
    {
     "data": {
      "text/html": [
       "\n",
       "        <div style='font-family:Arial, sans-serif; margin:10px 0;'>\n",
       "            <h3 style='color:#2F4F4F;'>Feedback on V1</h3>\n",
       "            <pre>The SQL correctly aggregates sales by color and selects the top result. However, the calculation SUM(qty_delta * unit_price) returns negative values because qty_delta is likely negative for sales (i.e., product is removed from inventory). To represent sales totals as positive numbers, it would be better to use SUM(ABS(qty_delta) * unit_price) so that total_sales is positive and more intuitive. The refinement is minor but improves clarity.</pre>\n",
       "        </div>\n",
       "        "
      ],
      "text/plain": [
       "<IPython.core.display.HTML object>"
      ]
     },
     "metadata": {},
     "output_type": "display_data"
    },
    {
     "data": {
      "text/html": [
       "\n",
       "        <div style='font-family:Arial, sans-serif; margin:10px 0;'>\n",
       "            <h3 style='color:#2F4F4F;'>Refined SQL Query (V2)</h3>\n",
       "            <pre>SELECT color, SUM(ABS(qty_delta) * unit_price) AS total_sales\n",
       "FROM transactions\n",
       "WHERE action = &#x27;sale&#x27;\n",
       "GROUP BY color\n",
       "ORDER BY total_sales DESC\n",
       "LIMIT 1;</pre>\n",
       "        </div>\n",
       "        "
      ],
      "text/plain": [
       "<IPython.core.display.HTML object>"
      ]
     },
     "metadata": {},
     "output_type": "display_data"
    },
    {
     "data": {
      "text/html": [
       "\n",
       "        <div style='font-family:Arial, sans-serif; margin:10px 0;'>\n",
       "            <h3 style='color:#2F4F4F;'>SQL Output of V2 (with External Feedback) - ✅ Fully answers the question</h3>\n",
       "            <pre>   color  total_sales\n",
       "0  White     55275.42</pre>\n",
       "        </div>\n",
       "        "
      ],
      "text/plain": [
       "<IPython.core.display.HTML object>"
      ]
     },
     "metadata": {},
     "output_type": "display_data"
    }
   ],
   "source": [
    "# Example: Refine SQL with External Feedback (V1 → V2)\n",
    "\n",
    "# Execute the original SQL (V1)\n",
    "df_sql_V1 = utils.execute_sql(sql_V1, db_path='products.db')\n",
    "\n",
    "# Use external feedback to evaluate and refine\n",
    "feedback, sql_V2 = refine_sql_external_feedback(\n",
    "    question=question,\n",
    "    sql_query=sql_V1,   # V1 query\n",
    "    df_feedback=df_sql_V1,    # Output of V1\n",
    "    schema=schema,\n",
    "    model=\"openai:gpt-4.1\"\n",
    ")\n",
    "\n",
    "# --- V1 ---\n",
    "utils.print_html(question, title=\"User Question\")\n",
    "utils.print_html(sql_V1, title=\"Generated SQL Query (V1)\")\n",
    "utils.print_html(df_sql_V1, title=\"SQL Output of V1 - ❌ Does NOT fully answer the question\")\n",
    "\n",
    "# --- Feedback & V2 ---\n",
    "utils.print_html(feedback, title=\"Feedback on V1\")\n",
    "utils.print_html(sql_V2, title=\"Refined SQL Query (V2)\")\n",
    "\n",
    "# Execute and display V2 results\n",
    "df_sql_V2 = utils.execute_sql(sql_V2, db_path='products.db')\n",
    "utils.print_html(df_sql_V2, title=\"SQL Output of V2 (with External Feedback) - ✅ Fully answers the question\")\n"
   ]
  }
 ],
 "metadata": {
  "kernelspec": {
   "display_name": "Python 3",
   "language": "python",
   "name": "python3"
  },
  "language_info": {
   "codemirror_mode": {
    "name": "ipython",
    "version": 3
   },
   "file_extension": ".py",
   "mimetype": "text/x-python",
   "name": "python",
   "nbconvert_exporter": "python",
   "pygments_lexer": "ipython3",
   "version": "3.11.4"
  }
 },
 "nbformat": 4,
 "nbformat_minor": 2
}
